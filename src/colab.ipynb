{
 "cells": [
  {
   "cell_type": "code",
   "execution_count": null,
   "metadata": {},
   "outputs": [],
   "source": [
    "from rummikub import Rummikub\n",
    "import monte_carlo\n",
    "import numpy as np\n",
    "import time\n",
    "\n",
    "if __name__ == '__main__':\n",
    "    game = Rummikub(2)\n",
    "    state = game.reset()\n",
    "    mc_state = monte_carlo.MonteCarloSearchTreeState(state)\n",
    "    monte_carlo.MonteCarloTreeSearchNode.create_models()\n",
    "    while True:\n",
    "        game.render()\n",
    "        root = monte_carlo.MonteCarloTreeSearchNode(state = mc_state)\n",
    "        actions_sequence = []\n",
    "        child = root.best_action()\n",
    "        while(child.children):\n",
    "            actions_sequence.append(child.parent_action)\n",
    "            child = child.best_action()\n",
    "        actions_sequence.append(child.parent_action)\n",
    "        print(\"Best Actions: \", actions_sequence)\n",
    "        actions_sequence = np.array(actions_sequence)\n",
    "        actions_sequence[np.where(actions_sequence[:,0] < 100)[0], 0:2] -= 1\n",
    "        actions_sequence = actions_sequence.tolist()\n",
    "        from_group, to_group, t_pointer = actions_sequence.pop(0)\n",
    "        state_p, _ = game.next_move(from_group, to_group, t_pointer)\n",
    "        while actions_sequence:\n",
    "            # game.render()\n",
    "            # time.sleep(2)\n",
    "            from_group, to_group, t_pointer = actions_sequence.pop(0)\n",
    "            state_p, _ = game.next_move(from_group, to_group, t_pointer)\n",
    "        mc_state_p = monte_carlo.MonteCarloSearchTreeState(state_p)\n",
    "        mc_state = mc_state_p\n"
   ]
  }
 ],
 "metadata": {
  "language_info": {
   "name": "python"
  },
  "orig_nbformat": 4
 },
 "nbformat": 4,
 "nbformat_minor": 2
}
